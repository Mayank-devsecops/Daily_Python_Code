{
 "cells": [
  {
   "cell_type": "markdown",
   "id": "3387e498",
   "metadata": {},
   "source": [
    "# Modules and Libraries Updating and Installing"
   ]
  },
  {
   "cell_type": "code",
   "execution_count": null,
   "id": "c7749f52",
   "metadata": {},
   "outputs": [
    {
     "name": "stdout",
     "output_type": "stream",
     "text": [
      "Requirement already satisfied: pip in c:\\users\\mayan\\onedrive\\desktop\\python_code\\venv\\lib\\site-packages (25.2)\n",
      "Note: you may need to restart the kernel to use updated packages.\n"
     ]
    }
   ],
   "source": [
    "%pip install --upgrade pip\n",
    "%pip install nltk"
   ]
  },
  {
   "cell_type": "markdown",
   "id": "1b29f416",
   "metadata": {},
   "source": [
    "## Importing Libraries "
   ]
  },
  {
   "cell_type": "code",
   "execution_count": 2,
   "id": "d1c1481d",
   "metadata": {},
   "outputs": [],
   "source": [
    "import pandas as pd\n",
    "import numpy as np\n",
    "from nltk.stem import PorterStemmer"
   ]
  },
  {
   "cell_type": "markdown",
   "id": "db60eaca",
   "metadata": {},
   "source": [
    "### List of words"
   ]
  },
  {
   "cell_type": "code",
   "execution_count": 4,
   "id": "d71834a1",
   "metadata": {},
   "outputs": [
    {
     "name": "stdout",
     "output_type": "stream",
     "text": [
      "Original words:\n",
      "['running', 'runs', 'ran', 'runner', 'walking', 'walks', 'walked', 'walker', 'jumping', 'jumps', 'jumped', 'jumper', 'playing', 'plays', 'played', 'player', 'coding', 'codes', 'coded', 'coder']\n",
      "\n",
      "============================================================\n",
      "\n"
     ]
    }
   ],
   "source": [
    "words = [\n",
    "    'running', 'runs', 'ran', 'runner',\n",
    "    'walking', 'walks', 'walked', 'walker',\n",
    "    'jumping', 'jumps', 'jumped', 'jumper',\n",
    "    'playing', 'plays', 'played', 'player',\n",
    "    'coding', 'codes', 'coded', 'coder']\n",
    "\n",
    "print(\"Original words:\")\n",
    "print(words)\n",
    "print(\"\\n\" + \"=\"*60 + \"\\n\")"
   ]
  },
  {
   "cell_type": "markdown",
   "id": "a9f21880",
   "metadata": {},
   "source": [
    "### Poster Stemming"
   ]
  },
  {
   "cell_type": "code",
   "execution_count": 5,
   "id": "70e0dd11",
   "metadata": {},
   "outputs": [
    {
     "name": "stdout",
     "output_type": "stream",
     "text": [
      "PORTER STEMMER:\n",
      "running         -> run\n",
      "runs            -> run\n",
      "ran             -> ran\n",
      "runner          -> runner\n",
      "walking         -> walk\n",
      "walks           -> walk\n",
      "walked          -> walk\n",
      "walker          -> walker\n",
      "jumping         -> jump\n",
      "jumps           -> jump\n",
      "jumped          -> jump\n",
      "jumper          -> jumper\n",
      "playing         -> play\n",
      "plays           -> play\n",
      "played          -> play\n",
      "player          -> player\n",
      "coding          -> code\n",
      "codes           -> code\n",
      "coded           -> code\n",
      "coder           -> coder\n",
      "\n"
     ]
    }
   ],
   "source": [
    "porter = PorterStemmer()\n",
    "porter_stems = [porter.stem(word) for word in words]\n",
    "\n",
    "print(\"PORTER STEMMER:\")\n",
    "for original, stem in zip(words, porter_stems):\n",
    "    print(f\"{original:15} -> {stem}\")\n",
    "print()"
   ]
  }
 ],
 "metadata": {
  "kernelspec": {
   "display_name": "venv (3.13.5)",
   "language": "python",
   "name": "python3"
  },
  "language_info": {
   "codemirror_mode": {
    "name": "ipython",
    "version": 3
   },
   "file_extension": ".py",
   "mimetype": "text/x-python",
   "name": "python",
   "nbconvert_exporter": "python",
   "pygments_lexer": "ipython3",
   "version": "3.13.5"
  }
 },
 "nbformat": 4,
 "nbformat_minor": 5
}
