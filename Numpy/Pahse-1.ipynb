{
 "cells": [
  {
   "cell_type": "markdown",
   "id": "1db944b7",
   "metadata": {},
   "source": [
    "## Numpy and Basic coding\n",
    "Learning about Numpy from python "
   ]
  },
  {
   "cell_type": "code",
   "execution_count": 13,
   "id": "131f38b7",
   "metadata": {},
   "outputs": [],
   "source": [
    "import numpy as np"
   ]
  },
  {
   "cell_type": "markdown",
   "id": "7fc4dab2",
   "metadata": {},
   "source": [
    "### Creating array from list"
   ]
  },
  {
   "cell_type": "code",
   "execution_count": 4,
   "id": "7ced3314",
   "metadata": {},
   "outputs": [
    {
     "name": "stdout",
     "output_type": "stream",
     "text": [
      "1D Array:  [1 2 3 4 5]\n",
      "2D Array:  [['1' '2' '3' '4' '5']\n",
      " ['Mayank' 'Chotu' 'Soahum' 'Moksh' 'Vaibhav']]\n"
     ]
    }
   ],
   "source": [
    "arr_1d = np.array([1,2,3,4,5])\n",
    "print(\"1D Array: \", arr_1d)\n",
    "\n",
    "arr_2d = np.array([[1,2,3,4,5], [\"Mayank\", \"Chotu\", \"Soahum\", \"Moksh\", \"Vaibhav\"]])\n",
    "print(\"2D Array: \", arr_2d)"
   ]
  },
  {
   "cell_type": "markdown",
   "id": "80e8e76a",
   "metadata": {},
   "source": [
    "### List vs Numpy array"
   ]
  },
  {
   "cell_type": "code",
   "execution_count": 7,
   "id": "cd1abbcd",
   "metadata": {},
   "outputs": [
    {
     "name": "stdout",
     "output_type": "stream",
     "text": [
      "Python List multiplication:  [1, 2, 3, 4, 5, 1, 2, 3, 4, 5]\n",
      "Python Array Multiplication:  [ 2  4  6  8 10]\n"
     ]
    }
   ],
   "source": [
    "py_list = [1,2,3,4,5] # multiply the whole list \n",
    "print(\"Python List multiplication: \", py_list * 2)\n",
    "\n",
    "np_array = np.array([1,2,3,4,5]) # multiply the elements in the array\n",
    "print(\"Python Array Multiplication: \", np_array * 2)"
   ]
  },
  {
   "cell_type": "code",
   "execution_count": 14,
   "id": "d615ed5b",
   "metadata": {},
   "outputs": [
    {
     "name": "stdout",
     "output_type": "stream",
     "text": [
      "\n",
      " List Operation time: 0.13947319984436035\n",
      "\n",
      " Numpy Operation time: 0.01587533950805664\n"
     ]
    }
   ],
   "source": [
    "import time\n",
    "start = time.time()\n",
    "py_list = [i*2 for i in range(1000000)]\n",
    "print(\"\\n List Operation time:\", time.time() - start)\n",
    "\n",
    "start = time.time()\n",
    "np_array = np.arange(1000000) * 2\n",
    "print(\"\\n Numpy Operation time:\", time.time() - start)"
   ]
  },
  {
   "cell_type": "markdown",
   "id": "3925d8de",
   "metadata": {},
   "source": [
    "### Creating array using Numpy"
   ]
  },
  {
   "cell_type": "code",
   "execution_count": 22,
   "id": "a75ec08f",
   "metadata": {},
   "outputs": [
    {
     "name": "stdout",
     "output_type": "stream",
     "text": [
      "Array of Zeros:\n",
      " [[0. 0. 0. 0.]\n",
      " [0. 0. 0. 0.]\n",
      " [0. 0. 0. 0.]]\n",
      "\n",
      "Array of Ones:\n",
      " [[1. 1. 1. 1.]\n",
      " [1. 1. 1. 1.]\n",
      " [1. 1. 1. 1.]]\n",
      "\n",
      "Array of Constant numbers:\n",
      " [[7 7 7 7]\n",
      " [7 7 7 7]\n",
      " [7 7 7 7]]\n",
      "\n",
      "Array of Random elements:\n",
      " [[0.3189193  0.98744733 0.66726807 0.68180284]\n",
      " [0.77604255 0.7933039  0.43406907 0.89090544]\n",
      " [0.37983039 0.61997649 0.11020134 0.90787642]]\n",
      "\n",
      "Array of even numbers:\n",
      " [ 0  2  4  6  8 10]\n"
     ]
    }
   ],
   "source": [
    "zeros = np.zeros((3, 4))\n",
    "print(\"Array of Zeros:\\n\", zeros)\n",
    "\n",
    "ones = np.ones((3,4))\n",
    "print(\"\\nArray of Ones:\\n\", ones)\n",
    "\n",
    "full = np.full((3,4), 7)\n",
    "print(\"\\nArray of Constant numbers:\\n\", full)\n",
    "\n",
    "random = np.random.random((3,4))\n",
    "print(\"\\nArray of Random elements:\\n\", random)\n",
    "\n",
    "sequence = np.arange(0,11,2)\n",
    "print(\"\\nArray of even numbers:\\n\", sequence)\n"
   ]
  },
  {
   "cell_type": "markdown",
   "id": "c4176c63",
   "metadata": {},
   "source": [
    "### Vector, Matrix and Tensor"
   ]
  },
  {
   "cell_type": "code",
   "execution_count": 24,
   "id": "8f35c63e",
   "metadata": {},
   "outputs": [
    {
     "name": "stdout",
     "output_type": "stream",
     "text": [
      "Vector:  [1 2 3 4 5]\n",
      "\n",
      "Matrix:\n",
      " [[ 1  2  3  4  5]\n",
      " [ 6  7  8  9 10]]\n",
      "\n",
      "Tensor:\n",
      " [[[ 1  2  3  4  5]\n",
      "  [ 6  7  8  9 10]]\n",
      "\n",
      " [[11 12 13 14 15]\n",
      "  [16 17 18 19 20]]]\n"
     ]
    }
   ],
   "source": [
    "vector = np.array([1,2,3,4,5])\n",
    "print(\"Vector: \", vector)\n",
    "\n",
    "matrix = np.array([[1,2,3,4,5],\n",
    "                   [6,7,8,9,10]])\n",
    "print(\"\\nMatrix:\\n\", matrix)\n",
    "\n",
    "tensor = np.array([[[1,2,3,4,5],[6,7,8,9,10]],\n",
    "                   [[11,12,13,14,15], [16,17,18,19,20]]])\n",
    "print(\"\\nTensor:\\n\", tensor)"
   ]
  },
  {
   "cell_type": "markdown",
   "id": "7c19a8df",
   "metadata": {},
   "source": [
    "### Array Properties"
   ]
  },
  {
   "cell_type": "code",
   "execution_count": 25,
   "id": "639d9767",
   "metadata": {},
   "outputs": [
    {
     "name": "stdout",
     "output_type": "stream",
     "text": [
      "Shape: (2, 3)\n",
      "Dimension: 2\n",
      "Size: 6\n",
      "Data Type: int64\n"
     ]
    }
   ],
   "source": [
    "arr = np.array([[1,2,3],\n",
    "                [4,5,6]])\n",
    "\n",
    "print(\"Shape:\", arr.shape)\n",
    "print(\"Dimension:\", arr.ndim)\n",
    "print(\"Size:\", arr.size)\n",
    "print(\"Data Type:\", arr.dtype)"
   ]
  },
  {
   "cell_type": "markdown",
   "id": "e1a1bbb6",
   "metadata": {},
   "source": [
    "### Array Reshaping"
   ]
  },
  {
   "cell_type": "code",
   "execution_count": null,
   "id": "f469e963",
   "metadata": {},
   "outputs": [
    {
     "name": "stdout",
     "output_type": "stream",
     "text": [
      "Original array:\n",
      " [ 0  1  2  3  4  5  6  7  8  9 10 11]\n",
      "\n",
      "Reshaped array:\n",
      " [[ 0  1  2  3]\n",
      " [ 4  5  6  7]\n",
      " [ 8  9 10 11]]\n",
      "\n",
      "Flattern array:\n",
      " [ 0  1  2  3  4  5  6  7  8  9 10 11]\n",
      "\n",
      "Ravel array:\n",
      " [ 0  1  2  3  4  5  6  7  8  9 10 11]\n",
      "\n",
      "Transpose array:\n",
      " [[ 0  4  8]\n",
      " [ 1  5  9]\n",
      " [ 2  6 10]\n",
      " [ 3  7 11]]\n",
      "\n",
      "Reshaped array:\n",
      " [[ 0  1  2  3]\n",
      " [ 4  5  6  7]\n",
      " [ 8  9 10 11]]\n"
     ]
    }
   ],
   "source": [
    "arr = np.arange(12)\n",
    "print(\"Original array:\\n\", arr)\n",
    "\n",
    "reshaped = arr.reshape((3,4))\n",
    "print(\"\\nReshaped array:\\n\", reshaped)\n",
    "\n",
    "flattered = reshaped.flatten()\n",
    "print(\"\\nFlattern array:\\n\", flattered)\n",
    "\n",
    "# returns view, instead of copy\n",
    "raveled = reshaped.ravel()\n",
    "print(\"\\nRaveled array:\\n\", raveled)\n",
    "\n",
    "transpose = reshaped.T\n",
    "print(\"\\nTranspose array:\\n\", transpose)"
   ]
  },
  {
   "cell_type": "code",
   "execution_count": null,
   "id": "bf37e503",
   "metadata": {},
   "outputs": [],
   "source": []
  }
 ],
 "metadata": {
  "kernelspec": {
   "display_name": "venv (3.13.5)",
   "language": "python",
   "name": "python3"
  },
  "language_info": {
   "codemirror_mode": {
    "name": "ipython",
    "version": 3
   },
   "file_extension": ".py",
   "mimetype": "text/x-python",
   "name": "python",
   "nbconvert_exporter": "python",
   "pygments_lexer": "ipython3",
   "version": "3.13.5"
  }
 },
 "nbformat": 4,
 "nbformat_minor": 5
}
