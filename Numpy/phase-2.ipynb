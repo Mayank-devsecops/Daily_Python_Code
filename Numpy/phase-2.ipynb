{
 "cells": [
  {
   "cell_type": "markdown",
   "id": "b363c866",
   "metadata": {},
   "source": [
    "## Numpy Array Operations"
   ]
  },
  {
   "cell_type": "code",
   "execution_count": 1,
   "id": "a80f0464",
   "metadata": {},
   "outputs": [],
   "source": [
    "import numpy as np"
   ]
  },
  {
   "cell_type": "code",
   "execution_count": null,
   "id": "7fa35e5a",
   "metadata": {},
   "outputs": [
    {
     "name": "stdout",
     "output_type": "stream",
     "text": [
      "Basic slicing: [2 3 4 5 6 7 8]\n",
      "\n",
      "With steps: [1 3 5 7]\n",
      "\n",
      "Negative Indexing: 8\n"
     ]
    }
   ],
   "source": [
    "arr_1d = np.arange(11)\n",
    "\n",
    "print(\"Basic slicing:\", arr_1d[2:9])\n",
    "print(\"\\nWith steps:\", arr_1d[1:8:2])\n",
    "print(\"\\nNegative Indexing:\", arr_1d[-3])"
   ]
  },
  {
   "cell_type": "code",
   "execution_count": null,
   "id": "60404a20",
   "metadata": {},
   "outputs": [
    {
     "name": "stdout",
     "output_type": "stream",
     "text": [
      "Specific Elements: 6\n",
      "\n",
      "Entire row: [4 5 6]\n",
      "\n",
      "Entire coloumn: [3 6 9]\n"
     ]
    }
   ],
   "source": [
    "arr_2d = np.array([[1,2,3],\n",
    "                   [4,5,6],\n",
    "                   [7,8,9]])\n",
    "\n",
    "print(\"Specific Elements:\", arr_2d[1,2])\n",
    "print(\"\\nEntire row:\", arr_2d[1])\n",
    "print(\"\\nEntire coloumn:\", arr_2d[:,2])"
   ]
  },
  {
   "cell_type": "markdown",
   "id": "4bd40cd6",
   "metadata": {},
   "source": [
    "### Sorting"
   ]
  },
  {
   "cell_type": "code",
   "execution_count": 28,
   "id": "e3ef0215",
   "metadata": {},
   "outputs": [
    {
     "name": "stdout",
     "output_type": "stream",
     "text": [
      "Unsorted Array:\n",
      " [[0.20530688 0.04920853 0.06939225 0.14139873 0.35480324]\n",
      " [0.56371746 0.3324585  0.75938158 0.93285549 0.92812724]\n",
      " [0.27175803 0.05323337 0.83672125 0.66908692 0.04587644]\n",
      " [0.65299657 0.83566711 0.82981619 0.77994603 0.59525738]]\n",
      "\n",
      "Sorted Array:\n",
      " [[0.04920853 0.06939225 0.14139873 0.20530688 0.35480324]\n",
      " [0.3324585  0.56371746 0.75938158 0.92812724 0.93285549]\n",
      " [0.04587644 0.05323337 0.27175803 0.66908692 0.83672125]\n",
      " [0.59525738 0.65299657 0.77994603 0.82981619 0.83566711]]\n",
      "\n",
      "Sorted 2d array by coloumn:\n",
      " [[0.20530688 0.04920853 0.06939225 0.14139873 0.04587644]\n",
      " [0.27175803 0.05323337 0.75938158 0.66908692 0.35480324]\n",
      " [0.56371746 0.3324585  0.82981619 0.77994603 0.59525738]\n",
      " [0.65299657 0.83566711 0.83672125 0.93285549 0.92812724]]\n",
      "\n",
      "Sorted 2d array by row:\n",
      " [[0.04920853 0.06939225 0.14139873 0.20530688 0.35480324]\n",
      " [0.3324585  0.56371746 0.75938158 0.92812724 0.93285549]\n",
      " [0.04587644 0.05323337 0.27175803 0.66908692 0.83672125]\n",
      " [0.59525738 0.65299657 0.77994603 0.82981619 0.83566711]]\n"
     ]
    }
   ],
   "source": [
    "Unsorted_array = np.random.random((4,5))\n",
    "print(\"Unsorted Array:\\n\", Unsorted_array)\n",
    "print(\"\\nSorted Array:\\n\", np.sort(Unsorted_array))\n",
    "\n",
    "Unsorted_array2 = np.array([[3,1],\n",
    "                            [1,2],\n",
    "                            [2,3]])\n",
    "print(\"\\nSorted 2d array by coloumn:\\n\", np.sort(Unsorted_array, axis=0))\n",
    "print(\"\\nSorted 2d array by row:\\n\", np.sort(Unsorted_array, axis=1))"
   ]
  },
  {
   "cell_type": "markdown",
   "id": "c80e4018",
   "metadata": {},
   "source": [
    "### Filtering"
   ]
  },
  {
   "cell_type": "code",
   "execution_count": 41,
   "id": "6ededb73",
   "metadata": {},
   "outputs": [
    {
     "name": "stdout",
     "output_type": "stream",
     "text": [
      "Even Numbers Array: [ 2  4  6  8 10]\n",
      "\n",
      "Odd Numbers Array: [ 1  3  5  7  9 11]\n"
     ]
    }
   ],
   "source": [
    "num = np.array([1,2,3,4,5,6,7,8,9,10,11])\n",
    "even_numbers = num[num % 2 == 0]\n",
    "odd_numbers = num[num % 2 != 0]\n",
    "print(\"Even Numbers Array:\", even_numbers)\n",
    "print(\"\\nOdd Numbers Array:\", odd_numbers)"
   ]
  },
  {
   "cell_type": "markdown",
   "id": "8d61f2b7",
   "metadata": {},
   "source": [
    "### Filtering With Mask"
   ]
  },
  {
   "cell_type": "code",
   "execution_count": 43,
   "id": "6e2bd0a9",
   "metadata": {},
   "outputs": [
    {
     "name": "stdout",
     "output_type": "stream",
     "text": [
      "Number Greater than 5: [ 6  7  8  9 10 11]\n",
      "Number smaller than 5: [1 2 3 4]\n"
     ]
    }
   ],
   "source": [
    "mask = num > 5 \n",
    "mask_2 = num <  5\n",
    "print(\"Number Greater than 5:\", num[mask])\n",
    "print(\"Number smaller than 5:\", num[mask_2])"
   ]
  },
  {
   "cell_type": "markdown",
   "id": "71a4806e",
   "metadata": {},
   "source": [
    "### Fancy Indexing vs np.where()"
   ]
  },
  {
   "cell_type": "code",
   "execution_count": 50,
   "id": "2cc4d15a",
   "metadata": {},
   "outputs": [
    {
     "name": "stdout",
     "output_type": "stream",
     "text": [
      "Indiced Array: [1 3 5]\n",
      "\n",
      "Value that stored in where : (array([ 6,  7,  8,  9, 10]),)\n",
      "\n",
      "NP where: [ 7  8  9 10 11]\n"
     ]
    }
   ],
   "source": [
    "indices = [0,2,4]\n",
    "print(\"Indiced Array:\", num[indices])\n",
    "\n",
    "where_result = np.where(num > 6)\n",
    "print(\"\\nValue that stored in where :\", where_result)\n",
    "print(\"\\nNP where:\", num[where_result])"
   ]
  },
  {
   "cell_type": "code",
   "execution_count": 52,
   "id": "d651e617",
   "metadata": {},
   "outputs": [
    {
     "name": "stdout",
     "output_type": "stream",
     "text": [
      "[ 1  2  3  4 15 18 21 24 27 30 33]\n"
     ]
    }
   ],
   "source": [
    "condition_array = np.where(num >= 5, num * 3, num)\n",
    "print(condition_array)"
   ]
  },
  {
   "cell_type": "markdown",
   "id": "69aa5617",
   "metadata": {},
   "source": [
    "### Adding or Removing Data"
   ]
  },
  {
   "cell_type": "code",
   "execution_count": 58,
   "id": "52121c88",
   "metadata": {},
   "outputs": [
    {
     "name": "stdout",
     "output_type": "stream",
     "text": [
      "Combination of both arrays are: [1 2 3 4 5 6]\n",
      "\n",
      "Array after deletion: [1 2 3 5 6 7 8 9]\n"
     ]
    }
   ],
   "source": [
    "arr_1 = np.array([1,2,3])\n",
    "arr_2 = np.array([4,5,6])\n",
    "arr_3 = np.array([1,2,3,4,5,6,7,8,9])\n",
    "\n",
    "Combined = np.concatenate((arr_1, arr_2))\n",
    "print(\"Combination of both arrays are:\", Combined)\n",
    "\n",
    "deleted = np.delete(arr_3, 3)\n",
    "print(\"\\nArray after deletion:\", deleted)"
   ]
  },
  {
   "cell_type": "markdown",
   "id": "385d3a67",
   "metadata": {},
   "source": [
    "### Array Compatiblity"
   ]
  },
  {
   "cell_type": "code",
   "execution_count": 54,
   "id": "9fffdb41",
   "metadata": {},
   "outputs": [
    {
     "name": "stdout",
     "output_type": "stream",
     "text": [
      "Compatiblities of Array 1 and 2: True\n",
      "Compatiblities of Array 2 and 3: False\n",
      "Compatiblities of Array 3 and 1: False\n"
     ]
    }
   ],
   "source": [
    "arr1 = np.array([1,2,3])\n",
    "arr2 = np.array([4,5,6])\n",
    "arr3 = np.array([8,9,10,12])\n",
    "\n",
    "print(\"Compatiblities of Array 1 and 2:\", arr1.shape == arr2.shape)\n",
    "print(\"Compatiblities of Array 2 and 3:\", arr2.shape == arr3.shape)\n",
    "print(\"Compatiblities of Array 3 and 1:\", arr3.shape == arr1.shape)"
   ]
  },
  {
   "cell_type": "markdown",
   "id": "65c8b46f",
   "metadata": {},
   "source": [
    "### Adding new Row and Columns"
   ]
  },
  {
   "cell_type": "code",
   "execution_count": 56,
   "id": "cd5d09b0",
   "metadata": {},
   "outputs": [
    {
     "name": "stdout",
     "output_type": "stream",
     "text": [
      "Original Array:\n",
      " [[ 1  2  3  4  5]\n",
      " [ 6  7  8  9 10]]\n",
      "\n",
      "Array after new row:\n",
      " [[ 1  2  3  4  5]\n",
      " [ 6  7  8  9 10]\n",
      " [11 12 13 14 15]]\n",
      "\n",
      "Array after new column:\n",
      " [[ 1  2  3  4  5 15]\n",
      " [ 6  7  8  9 10 20]]\n"
     ]
    }
   ],
   "source": [
    "original = np.array([[1,2,3,4,5],\n",
    "                     [6,7,8,9,10]])\n",
    "\n",
    "new_row = np.array([11,12,13,14,15])\n",
    "new_col = np.array([[15], [20]])\n",
    "\n",
    "# Adding new row\n",
    "with_new_row = np.vstack((original, new_row))\n",
    "print(\"Original Array:\\n\", original)\n",
    "print(\"\\nArray after new row:\\n\", with_new_row)\n",
    "\n",
    "# Adding new column\n",
    "with_new_col = np.hstack((original, new_col))\n",
    "print(\"\\nArray after new column:\\n\", with_new_col)\n"
   ]
  },
  {
   "cell_type": "code",
   "execution_count": null,
   "id": "f7396fcb",
   "metadata": {},
   "outputs": [],
   "source": []
  }
 ],
 "metadata": {
  "kernelspec": {
   "display_name": "venv (3.13.5)",
   "language": "python",
   "name": "python3"
  },
  "language_info": {
   "codemirror_mode": {
    "name": "ipython",
    "version": 3
   },
   "file_extension": ".py",
   "mimetype": "text/x-python",
   "name": "python",
   "nbconvert_exporter": "python",
   "pygments_lexer": "ipython3",
   "version": "3.13.5"
  }
 },
 "nbformat": 4,
 "nbformat_minor": 5
}
